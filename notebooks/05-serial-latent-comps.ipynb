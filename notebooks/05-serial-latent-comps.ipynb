{
 "cells": [
  {
   "cell_type": "code",
   "execution_count": null,
   "id": "0",
   "metadata": {},
   "outputs": [],
   "source": [
    "# If running from Colab, please uncomment and run the following cell to get summer installed.\n",
    "#!pip install summerepi2==1.3.5"
   ]
  },
  {
   "cell_type": "code",
   "execution_count": null,
   "id": "1",
   "metadata": {},
   "outputs": [],
   "source": [
    "import pandas as pd\n",
    "from datetime import datetime\n",
    "from summer2 import CompartmentalModel\n",
    "from summer2.parameters import Parameter\n",
    "from plotly import graph_objects as go\n",
    "pd.options.plotting.backend = 'plotly'"
   ]
  },
  {
   "cell_type": "markdown",
   "id": "2",
   "metadata": {},
   "source": [
    "## Epidemiological explanation\n",
    "Here we take a similar epidemiological model to that presented in \n",
    "the seir_model.ipynb notebook and replicate the latent compartments in series.\n",
    "### Flow adjustments\n",
    "In order to interpose additional latent or exposed compartments\n",
    "between the susceptible and infectious compartments,\n",
    "we need to make four structural adjustments to the model, as follows:\n",
    "- We remove the previous process of infection transfering newly infected persons to the single exposed compartment\n",
    "- The infection process needs to transfer newly infected person to the first of the sequential exposed compartments\n",
    "- We add transitions between each of the sequential latent compartments\n",
    "- We add a transition from the last of the latent compartments to the infectious compartment\n",
    "\n",
    "### Transition rates and parameters\n",
    "We can retain the same parameters as in for the base SEIR model.\n",
    "However, this will result in much slower rates of arrival in the infectious compartment following infection\n",
    "if we retain the same rate parameter for each of the transfer processes.\n",
    "This is because infected persons will need to transition between each of the sequential compartments,\n",
    "and so only arrive in the infectious compartment once they complete these transition processes.\n",
    "\n",
    "We can offset this by multiplying the rate of each transition by the number of transitions that must be made.\n",
    "This will result in the same mean time from infection to onset of infectiousness,\n",
    "such that we can still think of the parameter as the average incubation period.\n",
    "However, this will have implications for model dynamics,\n",
    "because the distribution of arrivals into the infectious compartment will differ from that under the base SEIR model.\n",
    "Specifically, the base case implies an exponential distribution for this time,\n",
    "whereas this model configuration implies an Erlang-distributed arrival time with shape parameter\n",
    "equal to the number of sequential compartments."
   ]
  },
  {
   "cell_type": "code",
   "execution_count": null,
   "id": "3",
   "metadata": {},
   "outputs": [],
   "source": [
    "iso = 'MYS'"
   ]
  },
  {
   "cell_type": "code",
   "execution_count": null,
   "id": "4",
   "metadata": {},
   "outputs": [],
   "source": [
    "cases_data = pd.read_csv('https://github.com/monash-emu/wpro_working/raw/main/data/new_cases.csv', index_col=0)[iso]\n",
    "cases_data.index = pd.to_datetime(cases_data.index)\n",
    "approx_pops = {\n",
    "    'MYS': 33e6,\n",
    "    'PHL': 114e6,\n",
    "    'VNM': 97e6,\n",
    "}"
   ]
  },
  {
   "cell_type": "code",
   "execution_count": null,
   "id": "5",
   "metadata": {},
   "outputs": [],
   "source": [
    "n_latent_comps = 3\n",
    "latent_comps = [f'exposed_{i_comp}' for i_comp in range(n_latent_comps)]\n",
    "compartments = ['susceptible', 'infectious', 'recovered'] + latent_comps"
   ]
  },
  {
   "cell_type": "code",
   "execution_count": null,
   "id": "6",
   "metadata": {},
   "outputs": [],
   "source": [
    "analysis_start_date = datetime(2021, 8, 1) \n",
    "analysis_end_date = datetime(2022, 6, 1)\n",
    "compartments = ['susceptible', 'infectious', 'recovered'] + latent_comps\n",
    "epi_model = CompartmentalModel(\n",
    "    [analysis_start_date, analysis_end_date],\n",
    "    compartments,\n",
    "    ['infectious'],\n",
    "    ref_date=datetime(2019, 12, 31),\n",
    ")"
   ]
  },
  {
   "cell_type": "code",
   "execution_count": null,
   "id": "7",
   "metadata": {},
   "outputs": [],
   "source": [
    "# Transition flows adjusted relative to the base SEIR model\n",
    "epi_model.add_infection_frequency_flow('infection', Parameter('contact_rate'), 'susceptible', latent_comps[0])\n",
    "for i_comp in range(n_latent_comps - 1):\n",
    "    source_comp = f'exposed_{i_comp}'\n",
    "    dest_comp = f'exposed_{i_comp + 1}'\n",
    "    transfer_rate = float(n_latent_comps) / Parameter('incubation_period')\n",
    "    epi_model.add_transition_flow(f'exposed_transfer_{i_comp}', float(n_latent_comps) / Parameter('incubation_period'), source_comp, dest_comp)\n",
    "epi_model.add_transition_flow('progression', float(n_latent_comps) / Parameter('incubation_period'), latent_comps[-1], 'infectious')"
   ]
  },
  {
   "cell_type": "code",
   "execution_count": null,
   "id": "8",
   "metadata": {},
   "outputs": [],
   "source": [
    "epi_model.add_transition_flow('recovery', 1.0 / Parameter('infectious_period'), 'infectious', 'recovered')\n",
    "epi_model.set_initial_population({'susceptible': approx_pops[iso], 'exposed_0': 1.0})\n",
    "incidence = epi_model.request_output_for_flow('incidence', 'progression')\n",
    "epi_model.request_function_output('notifications', incidence * Parameter('detection_prop'));"
   ]
  },
  {
   "cell_type": "code",
   "execution_count": null,
   "id": "9",
   "metadata": {},
   "outputs": [],
   "source": [
    "parameters = {\n",
    "    'contact_rate': 0.4,\n",
    "    'incubation_period': 5.0,\n",
    "    'infectious_period': 5.0,\n",
    "    'detection_prop': 0.07,\n",
    "}\n",
    "epi_model.run(parameters)"
   ]
  },
  {
   "cell_type": "code",
   "execution_count": null,
   "id": "10",
   "metadata": {},
   "outputs": [],
   "source": [
    "plot_start_date = datetime(2021, 10, 1)\n",
    "comparison_plot = epi_model.get_derived_outputs_df()[\"notifications\"].plot()\n",
    "comparison_plot.add_trace(go.Scatter(x=cases_data.index, y=cases_data))\n",
    "comparison_plot.update_xaxes(range=(plot_start_date, analysis_end_date))"
   ]
  },
  {
   "cell_type": "code",
   "execution_count": null,
   "id": "11",
   "metadata": {},
   "outputs": [],
   "source": [
    "epi_model.run(parameters | {\"contact_rate\": 0.0})\n",
    "epi_model.get_derived_outputs_df()[\"incidence\"].iloc[:30].plot()"
   ]
  }
 ],
 "metadata": {
  "kernelspec": {
   "display_name": "Python 3 (ipykernel)",
   "language": "python",
   "name": "python3"
  },
  "language_info": {
   "codemirror_mode": {
    "name": "ipython",
    "version": 3
   },
   "file_extension": ".py",
   "mimetype": "text/x-python",
   "name": "python",
   "nbconvert_exporter": "python",
   "pygments_lexer": "ipython3",
   "version": "3.10.13"
  }
 },
 "nbformat": 4,
 "nbformat_minor": 5
}
