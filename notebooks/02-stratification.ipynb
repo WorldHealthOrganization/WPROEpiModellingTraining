{
 "cells": [
  {
   "cell_type": "code",
   "execution_count": null,
   "id": "fa5cc545-b3fb-43ef-baf9-dee3be0c3d82",
   "metadata": {},
   "outputs": [],
   "source": [
    "# If running from Colab, please uncomment and run the following cell to get summer installed.\n",
    "#!pip install summerepi2==1.3.5"
   ]
  },
  {
   "cell_type": "code",
   "execution_count": null,
   "id": "2ee518db-c746-4aef-ad20-e01c95431d0c",
   "metadata": {},
   "outputs": [],
   "source": [
    "import pandas as pd\n",
    "from datetime import datetime\n",
    "from summer2 import CompartmentalModel, Stratification\n",
    "from summer2.parameters import Parameter\n",
    "from plotly import graph_objects as go\n",
    "pd.options.plotting.backend = 'plotly'"
   ]
  },
  {
   "cell_type": "markdown",
   "id": "eff1d5f5-615c-42ca-915a-ef89a5027a01",
   "metadata": {
    "tags": []
   },
   "source": [
    "## Stratification with reduced susceptiblity\n",
    "\n",
    "### Stratification\n",
    "This notebook applies a simple two-strata stratification \n",
    "to the basic model introduced in the SEIR model notebook.\n",
    "The two strata are arbitrarily referred to as child and adult\n",
    "implying that they are intended to represent age stratification,\n",
    "but this could easily represent other population heterogeneities.\n",
    "\n",
    "### Susceptibility modification\n",
    "After creating the stratification object,\n",
    "we modify the relative susceptibilty of the \"child\" stratum.\n",
    "Here we allow for children to be half as susceptible as adults,\n",
    "by modifying the infection flow for children\n",
    "(that is, they get infected at half the rate \n",
    "that they would have been infected if the modification had \n",
    "not been applied - implying that they are half as \n",
    "susceptible to infection).\n",
    "\n",
    "More generally, this code is intended to represent \n",
    "the way in which users can modify parameter values \n",
    "for subpopulations of the model.\n",
    "\n",
    "To understand the effect on each population sub-group\n",
    "we will need to track a stratum-specific output."
   ]
  },
  {
   "cell_type": "code",
   "execution_count": null,
   "id": "d25c9c93-db55-4a04-b1dd-522727309b4e",
   "metadata": {},
   "outputs": [],
   "source": [
    "iso = 'MYS'"
   ]
  },
  {
   "cell_type": "code",
   "execution_count": null,
   "id": "8ebb562f-4915-4755-a698-3592eefdd456",
   "metadata": {},
   "outputs": [],
   "source": [
    "cases_data = pd.read_csv('https://github.com/monash-emu/wpro_working/raw/main/data/new_cases.csv', index_col=0)[iso]\n",
    "cases_data.index = pd.to_datetime(cases_data.index)\n",
    "approx_pops = {\n",
    "    'MYS': 33e6,\n",
    "    'PHL': 114e6,\n",
    "    'VNM': 97e6,\n",
    "}"
   ]
  },
  {
   "cell_type": "code",
   "execution_count": null,
   "id": "4a8d1689-adf2-4bb5-8cb0-a04dbb4b0e8f",
   "metadata": {},
   "outputs": [],
   "source": [
    "analysis_start_date = datetime(2021, 8, 1) \n",
    "analysis_end_date = datetime(2022, 6, 1)\n",
    "\n",
    "epi_model = CompartmentalModel(\n",
    "    [analysis_start_date, analysis_end_date],\n",
    "    ['susceptible', 'exposed', 'infectious', 'recovered'],\n",
    "    ['infectious'],\n",
    "    ref_date=datetime(2019, 12, 31),\n",
    ")\n",
    "epi_model.add_infection_frequency_flow('infection', Parameter('contact_rate'), 'susceptible', 'exposed')\n",
    "epi_model.add_transition_flow('progression', 1.0 / Parameter('incubation_period'), 'exposed', 'infectious')\n",
    "epi_model.add_transition_flow('recovery', 1.0 / Parameter('infectious_period'), 'infectious', 'recovered')\n",
    "epi_model.set_initial_population({'susceptible': approx_pops[iso], 'infectious': 1.0})"
   ]
  },
  {
   "cell_type": "code",
   "execution_count": null,
   "id": "f21b4678-8b96-4365-b816-4af87de23e2a",
   "metadata": {},
   "outputs": [],
   "source": [
    "# Stratification\n",
    "age_strata = ['child', 'adult']\n",
    "age_strat = Stratification('age', age_strata, epi_model._original_compartment_names)\n",
    "age_suscept = {'child': Parameter('child_rel_suscept'), 'adult': None}\n",
    "age_strat.set_flow_adjustments('infection', age_suscept)\n",
    "epi_model.stratify_with(age_strat)\n",
    "for strat in age_strata:\n",
    "    inc_string = f'incX{strat}'\n",
    "    age_inc = epi_model.request_output_for_flow(inc_string, 'progression', source_strata={'age': strat}, save_results=False)\n",
    "    epi_model.request_function_output(f'notifX{strat}', age_inc * Parameter('detection_prop'))"
   ]
  },
  {
   "cell_type": "code",
   "execution_count": null,
   "id": "de7eec55-c205-4960-b2df-b6bef6bf11ea",
   "metadata": {},
   "outputs": [],
   "source": [
    "parameters = {\n",
    "    'contact_rate': 0.5,\n",
    "    'incubation_period': 5.0,\n",
    "    'infectious_period': 5.0,\n",
    "    'detection_prop': 0.07,\n",
    "    'child_rel_suscept': 0.5,\n",
    "}\n",
    "epi_model.run(parameters)"
   ]
  },
  {
   "cell_type": "code",
   "execution_count": null,
   "id": "490fcc4e-36b4-40e9-b355-1b0b9e021d95",
   "metadata": {},
   "outputs": [],
   "source": [
    "plot_start_date = datetime(2021, 10, 1)\n",
    "plot = epi_model.get_derived_outputs_df()[[f'notifX{strat}' for strat in age_strata]].plot.area()\n",
    "plot.update_xaxes(range=(plot_start_date, analysis_end_date))\n",
    "plot.add_trace(go.Scatter(x=cases_data.index, y=cases_data, mode='markers', name='data'))"
   ]
  }
 ],
 "metadata": {
  "kernelspec": {
   "display_name": "Python 3 (ipykernel)",
   "language": "python",
   "name": "python3"
  },
  "language_info": {
   "codemirror_mode": {
    "name": "ipython",
    "version": 3
   },
   "file_extension": ".py",
   "mimetype": "text/x-python",
   "name": "python",
   "nbconvert_exporter": "python",
   "pygments_lexer": "ipython3",
   "version": "3.10.10"
  }
 },
 "nbformat": 4,
 "nbformat_minor": 5
}
