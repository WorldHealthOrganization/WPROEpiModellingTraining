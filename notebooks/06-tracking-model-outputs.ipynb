{
 "cells": [
  {
   "cell_type": "code",
   "execution_count": null,
   "id": "0",
   "metadata": {},
   "outputs": [],
   "source": [
    "# If running from Colab, please uncomment and run the following cell to get summer installed.\n",
    "#!pip install summerepi2==1.3.5"
   ]
  },
  {
   "cell_type": "code",
   "execution_count": null,
   "id": "1",
   "metadata": {},
   "outputs": [],
   "source": [
    "import pandas as pd\n",
    "from datetime import datetime\n",
    "from plotly import graph_objects as go\n",
    "from summer2 import CompartmentalModel, Stratification\n",
    "from summer2.parameters import Parameter, DerivedOutput\n",
    "pd.options.plotting.backend = 'plotly'"
   ]
  },
  {
   "cell_type": "markdown",
   "id": "2",
   "metadata": {},
   "source": [
    "## Epidemiological explanation\n",
    "Here we take a similar epidemiological model to that presented in \n",
    "the `seir_model.ipynb` notebook and apply a simple stratification to it.\n",
    "### Age stratification\n",
    "The stratification itself is named 'age', but does not incorporate demographic processes\n",
    "(because we only use the standard 'Stratification' object).\n",
    "The stratification has no epidemiological effect on the model behaviour,\n",
    "execept that it permits us to generate some age group-specific outputs\n",
    "(and in the second model apply some different flow rates).\n",
    "### Tracking death rates\n",
    "The purpose of this stratification is to allow calculation of death rates,\n",
    "with the infection fatality rate (IFR) being allowed to differ according by age group.\n",
    "In the first model, we track recoveries and multiply the rate of recovery for each stratum \n",
    "by an age-specific IFR to calculate the total rate of deaths for the population.\n",
    "This means that we have a \"closed population\" and so just track deaths\n",
    "as a derived process linked to incidence.\n",
    "### Parameters\n",
    "Some additional parameters are needed here, \n",
    "including the distribution of population by age group.\n",
    "None of the parameters are intended to be exact,\n",
    "but are presented to allow the user to adjust them to desired (and more realistic) ranges."
   ]
  },
  {
   "cell_type": "code",
   "execution_count": null,
   "id": "3",
   "metadata": {},
   "outputs": [],
   "source": [
    "iso = 'MYS'"
   ]
  },
  {
   "cell_type": "code",
   "execution_count": null,
   "id": "4",
   "metadata": {},
   "outputs": [],
   "source": [
    "deaths_data = pd.read_csv('https://github.com/monash-emu/wpro_working/raw/main/data/new_deaths.csv', index_col=0)[iso]\n",
    "deaths_data.index = pd.to_datetime(deaths_data.index)\n",
    "approx_pops = {\n",
    "    'MYS': 33e6,\n",
    "    'PHL': 114e6,\n",
    "    'VNM': 97e6,\n",
    "}\n",
    "analysis_start_date = datetime(2021, 8, 1) \n",
    "analysis_end_date = datetime(2022, 6, 1)"
   ]
  },
  {
   "cell_type": "code",
   "execution_count": null,
   "id": "5",
   "metadata": {},
   "outputs": [],
   "source": [
    "def get_epi_model():\n",
    "    epi_model = CompartmentalModel(\n",
    "        [analysis_start_date, analysis_end_date],\n",
    "        ['susceptible', 'exposed', 'infectious', 'recovered'],\n",
    "        ['infectious'],\n",
    "        ref_date=datetime(2019, 12, 31),\n",
    "    )\n",
    "    epi_model.add_infection_frequency_flow('infection', Parameter('contact_rate'), 'susceptible', 'exposed')\n",
    "    epi_model.add_transition_flow('progression', 1.0 / Parameter('incubation_period'), 'exposed', 'infectious')\n",
    "    epi_model.add_transition_flow('recovery', 1.0 / Parameter('infectious_period'), 'infectious', 'recovered')\n",
    "    epi_model.set_initial_population({'susceptible': approx_pops[iso], 'infectious': 1.0})\n",
    "    return epi_model\n",
    "\n",
    "age_strata = ['0', '15', '60', '75']\n",
    "age_pop_split = {'0': 0.2, '15': 0.5, '60': 0.2, '75': 0.1}\n",
    "\n",
    "def get_age_strat(comp_names):\n",
    "    age_strat = Stratification('age', age_strata, comp_names)\n",
    "    age_strat.set_population_split(age_pop_split)\n",
    "    return age_strat\n",
    "\n",
    "plot_start_date = datetime(2021, 12, 1)\n",
    "\n",
    "def plot_age_deaths(model):\n",
    "    fig = model.get_derived_outputs_df().plot.area()\n",
    "    fig.add_trace(go.Scatter(x=deaths_data.index, y=deaths_data, name=\"reported\"))\n",
    "    fig.update_layout(yaxis_range=[0, 150], xaxis_range=[plot_start_date, analysis_end_date])\n",
    "    return fig"
   ]
  },
  {
   "cell_type": "code",
   "execution_count": null,
   "id": "6",
   "metadata": {},
   "outputs": [],
   "source": [
    "# Get model and stratify by age\n",
    "epi_model_1 = get_epi_model()\n",
    "age_strat = get_age_strat(epi_model_1._original_compartment_names)\n",
    "epi_model_1.stratify_with(age_strat)\n",
    "\n",
    "# Calculate deaths as a proportion of the recovery flow\n",
    "for age in age_strata:\n",
    "    age_recoveries = epi_model_1.request_output_for_flow(f'rec_{age}', 'recovery', source_strata={'age': age}, save_results=False)\n",
    "    epi_model_1.request_function_output(f'deaths_{age}', age_recoveries * Parameter(f'ifr_{age}'))"
   ]
  },
  {
   "cell_type": "code",
   "execution_count": null,
   "id": "7",
   "metadata": {},
   "outputs": [],
   "source": [
    "# Specify parameters, run and plot outputs\n",
    "parameters = {\n",
    "    'contact_rate': 0.4,\n",
    "    'incubation_period': 5.0,\n",
    "    'infectious_period': 5.0,\n",
    "    'ifr_0': 0.0, \n",
    "    'ifr_15': 0.0, \n",
    "    'ifr_60': 0.0002, \n",
    "    'ifr_75': 0.002,\n",
    "}\n",
    "epi_model_1.run(parameters)\n",
    "plot_age_deaths(epi_model_1)"
   ]
  },
  {
   "cell_type": "markdown",
   "id": "8",
   "metadata": {},
   "source": [
    "### Using an explicit death flow\n",
    "In this alternative version of the model, \n",
    "we will apply a death flow using `summer2`'s \n",
    "death flow method, which means that people actually leave \n",
    "the model as they die (and so the model is no longer \"closed\").\n",
    "We'll run it with the same parameters and should expect similar\n",
    "(although not quite identical) dynamics."
   ]
  },
  {
   "cell_type": "code",
   "execution_count": null,
   "id": "9",
   "metadata": {},
   "outputs": [],
   "source": [
    "# Get model and add an explicit deaths flow\n",
    "epi_model_2 = get_epi_model()\n",
    "epi_model_2.add_death_flow('death', 1.0 / Parameter('infectious_period'), 'infectious')\n",
    "\n",
    "# Modify deaths and recovery flows according to IFRs\n",
    "age_strat_2 = get_age_strat(epi_model_2._original_compartment_names)\n",
    "age_strat_2.set_flow_adjustments('death', {k: Parameter(f'ifr_{k}') for k in age_strata})\n",
    "age_strat_2.set_flow_adjustments('recovery', {k: 1.0 - Parameter(f'ifr_{k}') for k in age_strata})\n",
    "epi_model_2.stratify_with(age_strat_2)\n",
    "for age in age_strata:\n",
    "    epi_model_2.request_output_for_flow(f'deaths_{age}', 'death', source_strata={'age': age})"
   ]
  },
  {
   "cell_type": "code",
   "execution_count": null,
   "id": "10",
   "metadata": {},
   "outputs": [],
   "source": [
    "# Specify parameters, run and plot outputs\n",
    "epi_model_2.run(parameters)\n",
    "plot_age_deaths(epi_model_2)"
   ]
  },
  {
   "cell_type": "code",
   "execution_count": null,
   "id": "11",
   "metadata": {},
   "outputs": [],
   "source": [
    "# Compare the total population under either approach\n",
    "pd.concat([epi_model_1.get_outputs_df().sum(axis=1), epi_model_2.get_outputs_df().sum(axis=1)], axis=1).plot()"
   ]
  }
 ],
 "metadata": {
  "kernelspec": {
   "display_name": "Python 3 (ipykernel)",
   "language": "python",
   "name": "python3"
  },
  "language_info": {
   "codemirror_mode": {
    "name": "ipython",
    "version": 3
   },
   "file_extension": ".py",
   "mimetype": "text/x-python",
   "name": "python",
   "nbconvert_exporter": "python",
   "pygments_lexer": "ipython3",
   "version": "3.10.13"
  }
 },
 "nbformat": 4,
 "nbformat_minor": 5
}
