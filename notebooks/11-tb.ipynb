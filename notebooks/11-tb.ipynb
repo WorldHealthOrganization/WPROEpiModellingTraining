{
 "cells": [
  {
   "cell_type": "code",
   "execution_count": null,
   "id": "0",
   "metadata": {},
   "outputs": [],
   "source": [
    "#!pip install summerepi2==1.3.5"
   ]
  },
  {
   "cell_type": "code",
   "execution_count": null,
   "id": "1",
   "metadata": {},
   "outputs": [],
   "source": [
    "import pandas as pd\n",
    "pd.options.plotting.backend = \"plotly\"\n",
    "\n",
    "from summer2 import CompartmentalModel\n",
    "from summer2.parameters import Parameter, DerivedOutput\n",
    "from summer2.functions.time import get_sigmoidal_interpolation_function"
   ]
  },
  {
   "cell_type": "code",
   "execution_count": null,
   "id": "2",
   "metadata": {},
   "outputs": [],
   "source": [
    "def build_tb_model(extra_comps=[]):\n",
    "    compartments = [\n",
    "        \"susceptible\", \n",
    "        \"latent_early\",\n",
    "        \"latent_late\",\n",
    "        \"infectious\",\n",
    "        \"recovered\",\n",
    "    ] + extra_comps\n",
    "    model = CompartmentalModel(\n",
    "        times=[1800.0, 2024.0],\n",
    "        compartments=compartments,\n",
    "        infectious_compartments=[\"infectious\"],\n",
    "    )\n",
    "    start_pop = {\n",
    "        \"susceptible\": 5e7,\n",
    "        \"infectious\": 1e3,\n",
    "    }\n",
    "    model.set_initial_population(start_pop)\n",
    "    \n",
    "    # Demographics will be important\n",
    "    model.add_crude_birth_flow(\n",
    "        \"birth\",\n",
    "        Parameter(\"crude_birth_rate\"),\n",
    "        \"susceptible\",\n",
    "    )\n",
    "    model.add_universal_death_flows(\n",
    "        \"all_cause_mortality\",\n",
    "        1.0 / Parameter(\"life_expectancy\"),\n",
    "    )\n",
    "    total_pop = model.request_output_for_compartments(\"total_population\", compartments, save_results=False)\n",
    "    \n",
    "    # Infection / reinfection\n",
    "    infection_dest = \"latent_early\"\n",
    "    model.add_infection_frequency_flow(\n",
    "        \"infection\", \n",
    "        Parameter(\"transmission_rate\"),\n",
    "        \"susceptible\", \n",
    "        infection_dest,\n",
    "    )\n",
    "    for source in [\"latent_late\", \"recovered\"]:\n",
    "        reinfection_rate = Parameter(\"transmission_rate\") * Parameter(f\"rr_reinfection_{source}\")\n",
    "        model.add_infection_frequency_flow(\n",
    "            f\"reinfection_{source}\", \n",
    "            reinfection_rate,\n",
    "            source, \n",
    "            infection_dest,\n",
    "        )\n",
    "    \n",
    "    # Latency progression\n",
    "    model.add_transition_flow(\n",
    "        \"stabilisation\",\n",
    "        Parameter(\"stabilisation_rate\"),\n",
    "        \"latent_early\",\n",
    "        \"latent_late\",\n",
    "    )\n",
    "    for progression_type in [\"early\", \"late\"]:\n",
    "        progress_flow_name = f\"progression_{progression_type}\"\n",
    "        model.add_transition_flow(\n",
    "            progress_flow_name,\n",
    "            Parameter(f\"activation_rate_{progression_type}\"),\n",
    "            f\"latent_{progression_type}\",\n",
    "            \"infectious\",\n",
    "        )\n",
    "        model.request_output_for_flow(\n",
    "            progress_flow_name,\n",
    "            progress_flow_name,\n",
    "            save_results=False,\n",
    "        )\n",
    "    \n",
    "    # Natural history\n",
    "    model.add_transition_flow(\n",
    "        \"self_recovery\",\n",
    "        Parameter(\"self_recovery_rate\"),\n",
    "        \"infectious\",\n",
    "        \"recovered\",\n",
    "    )\n",
    "    model.add_death_flow(\n",
    "        \"active_tb_death\",\n",
    "        Parameter(\"tb_death_rate\"),\n",
    "        \"infectious\",\n",
    "    )\n",
    "    \n",
    "    # Outputs\n",
    "    infectious_pop = model.request_output_for_compartments(\"infectious_pop\", [\"infectious\"], save_results=False)\n",
    "    model.request_function_output(\"prevalence\", infectious_pop / total_pop * 1e5)\n",
    "    inc_func = (DerivedOutput(\"progression_early\") + DerivedOutput(\"progression_late\")) / total_pop * 1e5\n",
    "    model.request_function_output(\"incidence\", inc_func)\n",
    "    deaths = model.request_output_for_flow(\"deaths\", \"active_tb_death\", save_results=False)\n",
    "    death_func = deaths / total_pop * 1e5\n",
    "    model.request_function_output(\"mortality\", death_func)\n",
    "\n",
    "    return model"
   ]
  },
  {
   "cell_type": "code",
   "execution_count": null,
   "id": "3",
   "metadata": {},
   "outputs": [],
   "source": [
    "tb_model = build_tb_model()"
   ]
  },
  {
   "cell_type": "code",
   "execution_count": null,
   "id": "4",
   "metadata": {},
   "outputs": [],
   "source": [
    "ragonnet_epidemics_params = {\n",
    "    \"stabilisation_rate\": 1.0e-2,\n",
    "    \"activation_rate_early\": 1.1e-3,\n",
    "    \"activation_rate_late\": 5.5e-6,\n",
    "}\n",
    "latency_params = {k: v * 365.25 for k, v in ragonnet_epidemics_params.items()}\n",
    "parameters = {\n",
    "    \"crude_birth_rate\": 20.0 / 1000.0,\n",
    "    \"life_expectancy\": 60.0,\n",
    "    \"transmission_rate\": 4.0,\n",
    "    \"rr_reinfection_latent_late\": 0.5,\n",
    "    \"rr_reinfection_recovered\": 0.5,\n",
    "    \"self_recovery_rate\": 0.2,\n",
    "    \"tb_death_rate\": 0.2,\n",
    "}\n",
    "tb_model.run(parameters | latency_params)"
   ]
  },
  {
   "cell_type": "code",
   "execution_count": null,
   "id": "5",
   "metadata": {},
   "outputs": [],
   "source": [
    "tb_model.get_outputs_df().plot.area()"
   ]
  },
  {
   "cell_type": "code",
   "execution_count": null,
   "id": "6",
   "metadata": {},
   "outputs": [],
   "source": [
    "tb_model.get_derived_outputs_df().plot()"
   ]
  },
  {
   "cell_type": "code",
   "execution_count": null,
   "id": "7",
   "metadata": {},
   "outputs": [],
   "source": [
    "# TB model with detection included\n",
    "tb_detect_model = build_tb_model([\"treatment\"])\n",
    "x_pts = [1990., 2020.]\n",
    "y_pts = [0., Parameter(\"current_passive_detection_rate\")]\n",
    "passive_detection_func = get_sigmoidal_interpolation_function(x_pts, y_pts)\n",
    "tb_detect_model.add_transition_flow(\n",
    "    \"tb_detection\",\n",
    "    passive_detection_func,\n",
    "    \"infectious\",\n",
    "    \"treatment\",\n",
    ")\n",
    "tb_detect_model.add_transition_flow(\n",
    "    \"treatment\",\n",
    "    1.0 / Parameter(\"treatment_period\"),\n",
    "    \"treatment\",\n",
    "    \"recovered\",\n",
    ")"
   ]
  },
  {
   "cell_type": "code",
   "execution_count": null,
   "id": "8",
   "metadata": {},
   "outputs": [],
   "source": [
    "extra_params_for_detect = {\n",
    "    \"current_passive_detection_rate\": 0.5,\n",
    "    \"treatment_period\": 0.5,\n",
    "}\n",
    "tb_detect_model.run(parameters | latency_params | extra_params_for_detect)"
   ]
  },
  {
   "cell_type": "code",
   "execution_count": null,
   "id": "9",
   "metadata": {},
   "outputs": [],
   "source": [
    "tb_detect_model.get_outputs_df().plot.area()"
   ]
  },
  {
   "cell_type": "code",
   "execution_count": null,
   "id": "10",
   "metadata": {},
   "outputs": [],
   "source": [
    "tb_detect_model.get_derived_outputs_df().plot()"
   ]
  }
 ],
 "metadata": {
  "kernelspec": {
   "display_name": "Python 3 (ipykernel)",
   "language": "python",
   "name": "python3"
  },
  "language_info": {
   "codemirror_mode": {
    "name": "ipython",
    "version": 3
   },
   "file_extension": ".py",
   "mimetype": "text/x-python",
   "name": "python",
   "nbconvert_exporter": "python",
   "pygments_lexer": "ipython3",
   "version": "3.10.10"
  }
 },
 "nbformat": 4,
 "nbformat_minor": 5
}
