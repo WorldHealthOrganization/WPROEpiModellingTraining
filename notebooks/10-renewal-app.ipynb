{
 "cells": [
  {
   "cell_type": "code",
   "execution_count": null,
   "metadata": {},
   "outputs": [],
   "source": [
    "# Uncomment the line below to install on Colab or similar\n",
    "#!pip install git+https://github.com/monash-emu/renewal.git@108e577"
   ]
  },
  {
   "cell_type": "code",
   "execution_count": null,
   "metadata": {},
   "outputs": [],
   "source": [
    "from datetime import datetime, timedelta\n",
    "\n",
    "from jax import jit, random\n",
    "import pandas as pd\n",
    "from numpyro import distributions as dist\n",
    "from numpyro import infer\n",
    "import arviz as az\n",
    "from plotly.express.colors import qualitative as qual_colours\n",
    "\n",
    "from estival.sampling import tools as esamp\n",
    "\n",
    "from emu_renewal.process import CosineMultiCurve\n",
    "from emu_renewal.distributions import GammaDens\n",
    "from emu_renewal.renew import RenewalModel\n",
    "from emu_renewal.outputs import get_spaghetti_from_params, get_quant_df_from_spaghetti\n",
    "from emu_renewal.outputs import plot_uncertainty_patches, plot_post_prior_comparison, plot_priors\n",
    "from emu_renewal.calibration import StandardCalib"
   ]
  },
  {
   "cell_type": "code",
   "execution_count": null,
   "metadata": {},
   "outputs": [],
   "source": [
    "iso = \"MYS\"\n",
    "approx_pops = {\n",
    "    'MYS': 33e6,\n",
    "    'PHL': 114e6,\n",
    "    'VNM': 97e6,\n",
    "}\n",
    "\n",
    "pop = approx_pops[iso]"
   ]
  },
  {
   "cell_type": "code",
   "execution_count": null,
   "metadata": {},
   "outputs": [],
   "source": [
    "# Specify fixed parameters and get calibration data\n",
    "proc_update_freq = 14\n",
    "init_time = 50\n",
    "\n",
    "case_data = pd.read_csv(\"https://github.com/monash-emu/wpro_working/raw/main/data/new_cases.csv\", index_col=0)[iso]\n",
    "case_data.index = pd.to_datetime(case_data.index)\n",
    "\n",
    "analysis_start = datetime(2021, 4, 1)\n",
    "analysis_end = datetime(2021, 11, 1)\n",
    "init_start = analysis_start - timedelta(init_time)\n",
    "init_end = analysis_start - timedelta(1)\n",
    "select_data = case_data.loc[analysis_start: analysis_end]\n",
    "init_data = case_data.loc[init_start: init_end]"
   ]
  },
  {
   "cell_type": "code",
   "execution_count": null,
   "metadata": {},
   "outputs": [],
   "source": [
    "renew_model = RenewalModel(pop, analysis_start, analysis_end, proc_update_freq, CosineMultiCurve(), GammaDens(), 50, init_data, GammaDens())"
   ]
  },
  {
   "cell_type": "code",
   "execution_count": null,
   "metadata": {},
   "outputs": [],
   "source": [
    "# Define parameter ranges\n",
    "priors = {\n",
    "    \"gen_mean\": dist.TruncatedNormal(5.0, 0.4, low=1.0),\n",
    "    \"gen_sd\": dist.TruncatedNormal(3.8, 0.5, low=0.01),\n",
    "    \"cdr\": dist.Beta(2.8, 10.0),\n",
    "    \"rt_init\": dist.Normal(0.0, 0.25),\n",
    "    \"report_mean\": dist.TruncatedNormal(5.0, 0.5, low=1.0),\n",
    "    \"report_sd\": dist.TruncatedNormal(2.0, 0.5, low=0.01),\n",
    "}"
   ]
  },
  {
   "cell_type": "code",
   "execution_count": null,
   "metadata": {},
   "outputs": [],
   "source": [
    "calib = StandardCalib(renew_model, priors, select_data)\n",
    "kernel = infer.NUTS(calib.calibration, dense_mass=True, init_strategy=calib.custom_init(radius=0.5))\n",
    "mcmc = infer.MCMC(kernel, num_chains=2, num_samples=1000, num_warmup=1000)\n",
    "mcmc.run(random.PRNGKey(1))"
   ]
  },
  {
   "cell_type": "code",
   "execution_count": null,
   "metadata": {},
   "outputs": [],
   "source": [
    "idata = az.from_dict(mcmc.get_samples(True))\n",
    "idata_sampled = az.extract(idata, num_samples=200)\n",
    "sample_params = esamp.xarray_to_sampleiterator(idata_sampled)"
   ]
  },
  {
   "cell_type": "code",
   "execution_count": null,
   "metadata": {},
   "outputs": [],
   "source": [
    "@jit\n",
    "def get_full_result(**kwargs):\n",
    "    return renew_model.renewal_func(**kwargs | calib.fixed_params)\n",
    "\n",
    "spaghetti = get_spaghetti_from_params(renew_model, sample_params, get_full_result)\n",
    "quantiles_df = get_quant_df_from_spaghetti(renew_model, spaghetti, quantiles=[0.05, 0.5, 0.95])\n",
    "plot_uncertainty_patches(quantiles_df, select_data, qual_colours.Plotly).update_layout(showlegend=False)"
   ]
  },
  {
   "cell_type": "code",
   "execution_count": null,
   "metadata": {},
   "outputs": [],
   "source": [
    "az.summary(idata)"
   ]
  },
  {
   "cell_type": "code",
   "execution_count": null,
   "metadata": {},
   "outputs": [],
   "source": [
    "plot_post_prior_comparison(idata, [p for p in priors if p not in calib.fixed_params], priors);"
   ]
  }
 ],
 "metadata": {
  "kernelspec": {
   "display_name": "Python 3 (ipykernel)",
   "language": "python",
   "name": "python3"
  },
  "language_info": {
   "codemirror_mode": {
    "name": "ipython",
    "version": 3
   },
   "file_extension": ".py",
   "mimetype": "text/x-python",
   "name": "python",
   "nbconvert_exporter": "python",
   "pygments_lexer": "ipython3",
   "version": "3.10.10"
  }
 },
 "nbformat": 4,
 "nbformat_minor": 4
}
