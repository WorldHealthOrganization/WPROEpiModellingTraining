{
 "cells": [
  {
   "cell_type": "code",
   "execution_count": null,
   "id": "0",
   "metadata": {},
   "outputs": [],
   "source": [
    "#!pip install summerepi2==1.3.5"
   ]
  },
  {
   "cell_type": "code",
   "execution_count": null,
   "id": "1",
   "metadata": {},
   "outputs": [],
   "source": [
    "import pandas as pd\n",
    "from plotly import express as px\n",
    "pd.options.plotting.backend = \"plotly\"\n",
    "\n",
    "from summer2 import CompartmentalModel\n",
    "from summer2.parameters import Parameter"
   ]
  },
  {
   "cell_type": "code",
   "execution_count": null,
   "id": "2",
   "metadata": {},
   "outputs": [],
   "source": [
    "def get_si_base_structure(\n",
    "    extra_comps: list = None,\n",
    "    model_duration: float = 40.0\n",
    ") -> CompartmentalModel:\n",
    "    \"\"\"\n",
    "    Generate a model that only has S and I compartments, but has the basic\n",
    "    characteristics that we can then use to add in different assumptions\n",
    "    around post-infection immunity.\n",
    "    \n",
    "    Args:\n",
    "        extra_comps: Any compartments to incorporate in addition to the base ones\n",
    "    Returns:\n",
    "        The summer model object\n",
    "    \"\"\"\n",
    "    \n",
    "    # Compartments are comprised of the base ones and any additional latency compartments requested\n",
    "    if extra_comps is None:\n",
    "        extra_comps = []\n",
    "    \n",
    "    compartments = [\"susceptible\", \"infectious\"] + extra_comps\n",
    "    \n",
    "    infectious_compartment = (\"infectious\",)\n",
    "    analysis_times = (0.0, model_duration)\n",
    "    model = CompartmentalModel(\n",
    "        times=analysis_times,\n",
    "        compartments=compartments,\n",
    "        infectious_compartments=infectious_compartment,\n",
    "    )\n",
    "\n",
    "    seed_prop = 0.001\n",
    "\n",
    "    model.set_initial_population(\n",
    "        {\n",
    "            \"susceptible\": 1.0 - seed_prop,\n",
    "            \"infectious\": seed_prop,\n",
    "        }\n",
    "    )\n",
    "    \n",
    "    model.add_infection_frequency_flow(\n",
    "        \"infection\", \n",
    "        Parameter(\"contact_rate\"),\n",
    "        \"susceptible\", \n",
    "        \"infectious\",\n",
    "    )\n",
    "    \n",
    "    return model"
   ]
  },
  {
   "cell_type": "code",
   "execution_count": null,
   "id": "3",
   "metadata": {},
   "outputs": [],
   "source": [
    "parameters = {\n",
    "    \"contact_rate\": 1.0,\n",
    "    \"recovery_rate\": 0.333,\n",
    "    \"death_rate\": 0.05,\n",
    "}"
   ]
  },
  {
   "cell_type": "markdown",
   "id": "4",
   "metadata": {},
   "source": [
    "### SI structure\n",
    "We can represent permanent infection and infectiousness\n",
    "by ensuring that anyone entering the `infectious` compartment\n",
    "remains forever trapped within this state.\n",
    "Fortunately, there are relatively few infections\n",
    "that would be well represented by this model structure.\n",
    "Although pathogens exist that result in permanent infection,\n",
    "there are not many that also render the host permanently infectious."
   ]
  },
  {
   "cell_type": "code",
   "execution_count": null,
   "id": "5",
   "metadata": {},
   "outputs": [],
   "source": [
    "si_model = get_si_base_structure()\n",
    "\n",
    "si_model.run(parameters)\n",
    "si_values = si_model.get_outputs_df()\n",
    "axis_labels = {\"index\": \"time\", \"value\": \"proportion\"}\n",
    "si_values.plot(labels=axis_labels)"
   ]
  },
  {
   "cell_type": "markdown",
   "id": "6",
   "metadata": {},
   "source": [
    "### SIR structure\n",
    "As a starting point, let's next consider a model \n",
    "that is more similar to the SEIR structure that we have been\n",
    "using throughout several of the preceding notebooks.\n",
    "Here we assume that immunity to reinfection is \n",
    "permanent and complete, which may be appropriate\n",
    "for some infectious diseases."
   ]
  },
  {
   "cell_type": "code",
   "execution_count": null,
   "id": "7",
   "metadata": {},
   "outputs": [],
   "source": [
    "sir_model = get_si_base_structure([\"recovered\"])\n",
    "\n",
    "sir_model.add_transition_flow(\"recovery\", Parameter(\"recovery_rate\"), \"infectious\", \"recovered\")\n",
    "\n",
    "sir_model.run(parameters)\n",
    "sir_values = sir_model.get_outputs_df()\n",
    "sir_values.plot(labels=axis_labels)"
   ]
  },
  {
   "cell_type": "markdown",
   "id": "8",
   "metadata": {},
   "source": [
    "### SIS structure\n",
    "Under this structure,\n",
    "no immunity is conferred by infection.\n",
    "That is, recovered individuals are at the same\n",
    "risk of reinfection as those who have never been infected."
   ]
  },
  {
   "cell_type": "code",
   "execution_count": null,
   "id": "9",
   "metadata": {},
   "outputs": [],
   "source": [
    "sis_model = get_si_base_structure()\n",
    "\n",
    "sis_model.add_transition_flow(\"recovery\", Parameter(\"recovery_rate\"), \"infectious\", \"susceptible\")\n",
    "\n",
    "sis_model.run(parameters)\n",
    "sis_values = sis_model.get_outputs_df()\n",
    "sis_values.plot(labels=axis_labels)"
   ]
  },
  {
   "cell_type": "markdown",
   "id": "10",
   "metadata": {},
   "source": [
    "### SIRS structure\n",
    "Under this assumption,\n",
    "immunity is obtained after recovery from the infectious state, \n",
    "but only for a limited period.\n",
    "After an initial epidemic wave depletes the susceptible population,\n",
    "the model approaches an equilibrium state in which\n",
    "the rate of infection offsets the rate of waning of immunity\n",
    "from the recovered population."
   ]
  },
  {
   "cell_type": "code",
   "execution_count": null,
   "id": "11",
   "metadata": {},
   "outputs": [],
   "source": [
    "sirs_model = get_si_base_structure([\"recovered\"])\n",
    "\n",
    "sirs_model.add_transition_flow(\"recovery\", Parameter(\"recovery_rate\"), \"infectious\", \"recovered\")\n",
    "sirs_model.add_transition_flow(\"immunity_waning\", Parameter(\"immunity_waning\"), \"recovered\", \"susceptible\")\n",
    "\n",
    "parameters_waning = parameters | {\"immunity_waning\": 0.1}\n",
    "\n",
    "sirs_model.run(parameters_waning)\n",
    "sirs_values = sirs_model.get_outputs_df()\n",
    "sirs_values.plot(labels=axis_labels)"
   ]
  },
  {
   "cell_type": "markdown",
   "id": "12",
   "metadata": {
    "tags": []
   },
   "source": [
    "## Tracking immunity status\n",
    "One important consideration whenever constructing\n",
    "compartmental models of infectious disease transmission\n",
    "is that these models are \"memory-less\".\n",
    "That is, the model state at future time points are entirely\n",
    "determined by the model's current state.\n",
    "Therefore, although we can calculate the rate of \n",
    "new persons transitioning between two given model states\n",
    "at a certain point in time,\n",
    "calculating these rates does not provide us with information\n",
    "about the history of the new arrivals into the destination compartment.\n",
    "If we wish to obtain this sort of information from a compartmental model,\n",
    "this can be achieved by incorporating additional compartments to track\n",
    "past states.\n",
    "For example, consider an alternative structure to the SIRS\n",
    "assumption around waning immunity."
   ]
  },
  {
   "cell_type": "code",
   "execution_count": null,
   "id": "13",
   "metadata": {},
   "outputs": [],
   "source": [
    "sirs2_model = get_si_base_structure([\"recovered\", \"susceptible_2\"])\n",
    "\n",
    "sirs2_model.add_infection_frequency_flow(\"reinfection\", Parameter(\"contact_rate\"), \"susceptible_2\", \"infectious\") \n",
    "sirs2_model.add_transition_flow(\"recovery\", Parameter(\"recovery_rate\"), \"infectious\", \"recovered\")\n",
    "sirs2_model.add_transition_flow(\"immunity_waning\", Parameter(\"immunity_waning\"), \"recovered\", \"susceptible_2\")\n",
    "\n",
    "sirs2_model.run(parameters_waning)\n",
    "sirs2_values = sirs2_model.get_outputs_df()\n",
    "sirs2_values.plot(labels=axis_labels)"
   ]
  },
  {
   "cell_type": "markdown",
   "id": "14",
   "metadata": {},
   "source": [
    "Note that the `susceptible_2` compartment behaves exactly \n",
    "the same as the `susceptible` compartment from the point-of-view \n",
    "of the model, but has a different history.\n",
    "We might have alternatively called this compartment `waned`.\n",
    "Note that the dynamics of this model are identical\n",
    "to those of the SIRS model in which recovery\n",
    "returned infectious persons to the starting susceptible compartment. \n",
    "We could now produce outputs for quantities including \n",
    "the proportion of the total population ever infected \n",
    "and the proportion of infections attributable to reinfection.\n",
    "These quantities could not have been obtained from\n",
    "the simpler SIRS model introduced above.\n",
    "\n",
    "## Comparison\n",
    "Let's confirm that this is the case and that \n",
    "the models have the same behaviour.\n",
    "(Toggle the SIRS2 line off to see the SIRS line underneath.)"
   ]
  },
  {
   "cell_type": "code",
   "execution_count": null,
   "id": "15",
   "metadata": {},
   "outputs": [],
   "source": [
    "pd.DataFrame(\n",
    "    {\n",
    "        \"si\": si_values[\"infectious\"],\n",
    "        \"sir\": sir_values[\"infectious\"],\n",
    "        \"sis\": sis_values[\"infectious\"],\n",
    "        \"sirs\": sirs_values[\"infectious\"],\n",
    "        \"sirs2\": sirs2_values[\"infectious\"],\n",
    "    }\n",
    ").plot(labels=axis_labels)"
   ]
  },
  {
   "cell_type": "markdown",
   "id": "16",
   "metadata": {},
   "source": [
    "### Oscillatory dynamics"
   ]
  },
  {
   "cell_type": "code",
   "execution_count": null,
   "id": "17",
   "metadata": {},
   "outputs": [],
   "source": [
    "sirs_long = get_si_base_structure([\"recovered\"], 1000.0)\n",
    "\n",
    "sirs_long.add_transition_flow(\"recovery\", Parameter(\"recovery_rate\"), \"infectious\", \"recovered\")\n",
    "sirs_long.add_transition_flow(\"immunity_waning\", Parameter(\"immunity_waning\"), \"recovered\", \"susceptible\")\n",
    "\n",
    "parameters_waning = parameters | {\"immunity_waning\": 0.01}\n",
    "\n",
    "sirs_long.run(parameters_waning)\n",
    "\n",
    "outputs = sirs_long.get_outputs_df()\n",
    "\n",
    "outputs.plot()"
   ]
  },
  {
   "cell_type": "markdown",
   "id": "18",
   "metadata": {},
   "source": [
    "### Phase plane\n",
    "We've examined these epidemics by looking at the compartment sizes over time. However, this process of oscillatory dynamics heading gradually towards a stable endemic state at which the recovered and the susceptible populations balance one another can be illustrated in other ways.\n",
    "\n",
    "An alternative way to think about what is happening in the model is through a \"phase plane\" in which we plot the susceptible and infectious populations against one another. This gives a nice sense of the endemic state as a stable equilibrium point that is attracting the epidemic towards it at any point in time. However, the momentum of the epidemic starts off so great that it continually overshoots this stable point and ends up spiralling towards it's final resting place. You can imagine it as a bit like a coin wishing well, with the time dimension approximately represented by the distance along the spiral."
   ]
  },
  {
   "cell_type": "code",
   "execution_count": null,
   "id": "19",
   "metadata": {},
   "outputs": [],
   "source": [
    "outputs_late_start = outputs.loc[outputs.index > 70.0]\n",
    "\n",
    "fig = px.line(\n",
    "    outputs_late_start,\n",
    "    x=\"susceptible\", \n",
    "    y=\"infectious\"\n",
    ")\n",
    "fig.show()"
   ]
  },
  {
   "cell_type": "code",
   "execution_count": null,
   "id": "20",
   "metadata": {},
   "outputs": [],
   "source": [
    "px.line_3d(\n",
    "    outputs_late_start, \n",
    "    x=\"susceptible\", \n",
    "    y=\"infectious\", \n",
    "    z=outputs_late_start.index,\n",
    "    width=800,\n",
    "    height=600,\n",
    ")"
   ]
  }
 ],
 "metadata": {
  "kernelspec": {
   "display_name": "Python 3 (ipykernel)",
   "language": "python",
   "name": "python3"
  },
  "language_info": {
   "codemirror_mode": {
    "name": "ipython",
    "version": 3
   },
   "file_extension": ".py",
   "mimetype": "text/x-python",
   "name": "python",
   "nbconvert_exporter": "python",
   "pygments_lexer": "ipython3",
   "version": "3.10.13"
  }
 },
 "nbformat": 4,
 "nbformat_minor": 5
}
