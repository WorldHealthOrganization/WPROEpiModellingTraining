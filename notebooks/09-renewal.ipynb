{
 "cells": [
  {
   "cell_type": "markdown",
   "id": "0",
   "metadata": {
    "id": "0"
   },
   "source": [
    "## A simple renewal model\n",
    "To get started, we'll implement a renewal model\n",
    "that calculates incidence forward in time\n",
    "but ignores susceptible depletion and a varying reproduction number,\n",
    "such that we will consider:\n",
    "$$I_t = R_0\\sum_{\\tau<t} I_\\tau g_{t-\\tau}$$"
   ]
  },
  {
   "cell_type": "code",
   "execution_count": null,
   "id": "1",
   "metadata": {
    "id": "1"
   },
   "outputs": [],
   "source": [
    "from scipy.stats import gamma\n",
    "import numpy as np\n",
    "import pandas as pd\n",
    "pd.options.plotting.backend = \"plotly\""
   ]
  },
  {
   "cell_type": "markdown",
   "id": "2",
   "metadata": {
    "id": "4"
   },
   "source": [
    "### Generation time\n",
    "We'll get a distribution we can sensibly use for the generation time,\n",
    "which could represent an acute immunising respiratory infection \n",
    "(assuming the time unit is days)."
   ]
  },
  {
   "cell_type": "code",
   "execution_count": null,
   "id": "3",
   "metadata": {
    "id": "5"
   },
   "outputs": [],
   "source": [
    "# Generation time summary statistics\n",
    "gen_mean = 5.0\n",
    "gen_sd = 1.5\n",
    "\n",
    "# Calculate equivalent parameters\n",
    "var = gen_sd ** 2.0\n",
    "scale = var / gen_mean\n",
    "a = gen_mean / scale\n",
    "gamma_params = {\"a\": a, \"scale\": scale}\n",
    "\n",
    "# Get the increment in the CDF\n",
    "# (i.e. the integral over the increment by one in the distribution)\n",
    "gen_time_densities = np.diff(gamma.cdf(range(1024), **gamma_params))\n",
    "\n",
    "pd.Series(gen_time_densities).iloc[0:20].plot(labels={\"index\": \"time\", \"value\": \"density\"}).update_layout(showlegend=False)"
   ]
  },
  {
   "cell_type": "markdown",
   "id": "4",
   "metadata": {
    "id": "6"
   },
   "source": [
    "### Calculations\n",
    "Here, we'll start with naive Python loops with pre-calculated generation times\n",
    "to be completely explicit (but slow).\n",
    "Note that the delay is specified as `t - tau - 1` because\n",
    "delay then starts from zero each time,\n",
    "which then indexes the first element of the generation time densities.\n",
    "As shown in the previous cell,\n",
    "the `gen_time_densities` is the integral of the probability\n",
    "density over each one-unit interval of the gamma distribution."
   ]
  },
  {
   "cell_type": "code",
   "execution_count": null,
   "id": "5",
   "metadata": {
    "id": "GSE8LQCh2YIi"
   },
   "outputs": [],
   "source": [
    "# Let's set some arbitrary parameters to start with\n",
    "n_times = 25\n",
    "seed = 1.0\n",
    "r0 = 2.0\n",
    "incidence = np.zeros(n_times)\n",
    "incidence[0] = seed"
   ]
  },
  {
   "cell_type": "code",
   "execution_count": null,
   "id": "6",
   "metadata": {
    "id": "7"
   },
   "outputs": [],
   "source": [
    "for t in range(1, n_times):\n",
    "    val = 0.0\n",
    "    for tau in range(t):  # For each day preceding the day of interest\n",
    "        delay = t - tau - 1  # The generation time index for each preceding day to the day of interest\n",
    "        val += incidence[tau] * gen_time_densities[delay] * r0  # Calculate the incidence value\n",
    "    incidence[t] = val"
   ]
  },
  {
   "cell_type": "markdown",
   "id": "7",
   "metadata": {
    "id": "10"
   },
   "source": [
    "We can get this down to a one-liner if preferred.\n",
    "The epidemic is going to just keep going up exponentially, of course,\n",
    "because $R_{0} > 1$ and there is no susceptible depletion."
   ]
  },
  {
   "cell_type": "code",
   "execution_count": null,
   "id": "8",
   "metadata": {
    "id": "11"
   },
   "outputs": [],
   "source": [
    "alternative_inc = np.zeros(n_times)\n",
    "alternative_inc[0] = seed\n",
    "\n",
    "for t in range(1, n_times):\n",
    "    alternative_inc[t] = (alternative_inc[:t] * gen_time_densities[:t][::-1]).sum() * r0\n",
    "\n",
    "np.allclose(incidence, alternative_inc) # Check our 2 methods are the same\n",
    "\n",
    "axis_labels = {\"index\": \"day\", \"value\": \"incidence\"}\n",
    "pd.Series(incidence).plot(labels=axis_labels).update_layout(showlegend=False)"
   ]
  },
  {
   "cell_type": "markdown",
   "id": "9",
   "metadata": {
    "id": "12"
   },
   "source": [
    "Already some interesting phenomena are emerging,\n",
    "in that the humps are the generations of cases from the first seeding infection\n",
    "(which occurs at a single time point),\n",
    "which progressively smooth into one-another with generations of cases.\n",
    "\n",
    "### Threshold behaviour\n",
    "We expect a declining epidemic with $R_{0} < 1$, and equilibrium at $R_{0} = 1$"
   ]
  },
  {
   "cell_type": "code",
   "execution_count": null,
   "id": "10",
   "metadata": {
    "id": "13"
   },
   "outputs": [],
   "source": [
    "n_times = 50\n",
    "low_r_inc = np.zeros(n_times)\n",
    "low_r_inc[0] = 1.0\n",
    "# Try changing the r0 value\n",
    "r0 = 0.9\n",
    "for t in range(1, n_times):\n",
    "    low_r_inc[t] = (low_r_inc[:t] * gen_time_densities[:t][::-1]).sum() * r0\n",
    "pd.Series(low_r_inc).plot(labels=axis_labels).update_layout(showlegend=False)"
   ]
  },
  {
   "cell_type": "markdown",
   "id": "11",
   "metadata": {
    "id": "14"
   },
   "source": [
    "## Susceptible depletion\n",
    "To add one layer of realism, we'll now start to think about susceptible depletion,\n",
    "considering the equation:\n",
    "$\\\\I_t = (1-\\frac{n_t}{N})R_0\\sum_{\\tau<t} I_{\\tau}g_{t-\\tau}$\n",
    "\n",
    "We'll now run the model with susceptible depletion,\n",
    "decrementing the susceptible population by the incidence at each step.\n",
    "We'll also zero out any negative values for the susceptibles\n",
    "that could occur if the time step is too large\n",
    "(which should be negligible for reasonable time step and parameter choices).\n",
    "We'll need a higher reproduction number to deplete\n",
    "the susceptible population within the time window we have."
   ]
  },
  {
   "cell_type": "code",
   "execution_count": null,
   "id": "12",
   "metadata": {
    "id": "15"
   },
   "outputs": [],
   "source": [
    "n_times = 30\n",
    "\n",
    "r0 = 6.0\n",
    "pop = 100.0\n",
    "deplete_inc = np.zeros(n_times)\n",
    "deplete_inc[0] = seed\n",
    "suscept = pop - seed\n",
    "\n",
    "for t in range(1, n_times):\n",
    "    suscept_prop = suscept / pop\n",
    "    infect_contribution_by_day = deplete_inc[:t] * gen_time_densities[:t][::-1] * r0\n",
    "    this_inc = infect_contribution_by_day.sum() * suscept_prop\n",
    "    deplete_inc[t] = this_inc\n",
    "    suscept = max(suscept - this_inc, 0.0)\n",
    "\n",
    "pd.Series(deplete_inc).plot(labels=axis_labels).update_layout(showlegend=False)"
   ]
  },
  {
   "cell_type": "markdown",
   "id": "13",
   "metadata": {
    "id": "16"
   },
   "source": [
    "Now with susceptible depletion, we have an epi-curve that goes up in the initial phase with $R_0 > 1$,\n",
    "but comes back down as susceptibles are depleted and so $R_t$ falls below one."
   ]
  },
  {
   "cell_type": "markdown",
   "id": "14",
   "metadata": {
    "id": "17"
   },
   "source": [
    "## Varying the reproduction number\n",
    "Building on the previous cells and including susceptible depletion,\n",
    "we'll now look at varying the reproduction number with time,\n",
    "because inferring the variation in this quantity is what\n",
    "we're aiming to achieve from these models.\n",
    "\n",
    "As previously, the equation we're considering will be:\n",
    "$\\\\I_t = (1-\\frac{n_t}{N})R_t\\sum_{\\tau<t} I_{\\tau}g_{t-\\tau}$\n",
    "However, now the $R_{t}$ value is determined both\n",
    "by an extrinsic variable (\"random\") process.\n",
    "At this stage, the process will be arbitrary values,\n",
    "and there are several functions that could be used\n",
    "(including a random walk and an\n",
    "autoregressive process).\n",
    "\n",
    "First, let's set up a variable process,\n",
    "which we'll define as the relative variation in the \n",
    "reproduction number as time proceeds."
   ]
  },
  {
   "cell_type": "code",
   "execution_count": null,
   "id": "15",
   "metadata": {},
   "outputs": [],
   "source": [
    "n_times = 40\n",
    "process_req = [2.0, 3.0, 0.1, 5.0]\n",
    "process_times = np.linspace(0.0, n_times, len(process_req))\n",
    "process_vals = np.interp(range(n_times), process_times, process_req)\n",
    "pd.Series(process_vals, index=range(n_times)).plot()"
   ]
  },
  {
   "cell_type": "markdown",
   "id": "16",
   "metadata": {},
   "source": [
    "We'll use model parameters, population size\n",
    "and the generation times as previously, \n",
    "and run the model with both susceptible depletion,\n",
    "and the variable process.\n",
    "Now we can manipulate the shape of the epicurve.\n",
    "The evolution of the variable process\n",
    "is what we'll estimate in later sessions\n",
    "to estimate the variation in the reproduction number\n",
    "over time."
   ]
  },
  {
   "cell_type": "code",
   "execution_count": null,
   "id": "17",
   "metadata": {
    "id": "18"
   },
   "outputs": [],
   "source": [
    "var_r_inc = np.zeros(n_times)\n",
    "var_r_inc[0] = seed\n",
    "r0 = 1.0\n",
    "\n",
    "suscept = pop - seed\n",
    "for t in range(1, n_times):\n",
    "    suscept_prop = suscept / pop\n",
    "    infect_contribution_by_day = var_r_inc[:t] * gen_time_densities[:t][::-1] * r0\n",
    "    this_inc = infect_contribution_by_day.sum() * suscept_prop * process_vals[t]\n",
    "    var_r_inc[t] = this_inc\n",
    "    suscept = max(suscept - this_inc, 0.0)\n",
    "pd.Series(var_r_inc).plot(labels=axis_labels).update_layout(showlegend=False)"
   ]
  }
 ],
 "metadata": {
  "colab": {
   "provenance": []
  },
  "kernelspec": {
   "display_name": "Python 3 (ipykernel)",
   "language": "python",
   "name": "python3"
  },
  "language_info": {
   "codemirror_mode": {
    "name": "ipython",
    "version": 3
   },
   "file_extension": ".py",
   "mimetype": "text/x-python",
   "name": "python",
   "nbconvert_exporter": "python",
   "pygments_lexer": "ipython3",
   "version": "3.10.13"
  }
 },
 "nbformat": 4,
 "nbformat_minor": 5
}
