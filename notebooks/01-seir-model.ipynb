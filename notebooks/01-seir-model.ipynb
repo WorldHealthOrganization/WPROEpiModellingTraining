{
 "cells": [
  {
   "cell_type": "code",
   "execution_count": null,
   "id": "902adde5-a16b-466b-a5dd-e3d3a6e245de",
   "metadata": {},
   "outputs": [],
   "source": [
    "# If running from Colab, please uncomment and run the following cell to get summer installed.\n",
    "#!pip install summerepi2==1.3.5"
   ]
  },
  {
   "cell_type": "code",
   "execution_count": null,
   "id": "2ee518db-c746-4aef-ad20-e01c95431d0c",
   "metadata": {},
   "outputs": [],
   "source": [
    "import pandas as pd\n",
    "from datetime import datetime\n",
    "from summer2 import CompartmentalModel\n",
    "from summer2.parameters import Parameter\n",
    "pd.options.plotting.backend = 'plotly'"
   ]
  },
  {
   "cell_type": "markdown",
   "id": "e7a864e4-8072-4f55-8b81-c93dec5cc98c",
   "metadata": {},
   "source": [
    "## Model construction and execution\n",
    "The following cells constitute the epidemiological analysis of this notebook.\n",
    "The code is intended to be very simple and adaptable.\n",
    "Please feel free to adjust any of the data sources or parameters,\n",
    "which is the purpose of this notebook.\n",
    "### Country selection\n",
    "First choose your country using it's ISO code,\n",
    "with options only available for Malaysia, the Philippines and Vietnam.\n",
    "This will determine the Our World in Data (OWID) case data \n",
    "that can be used to compare your model results against.\n",
    "You can use our approximate estimate of the total population of the country,\n",
    "or replace the value as per your preference.\n",
    "### Dates\n",
    "Feel free to edit the datetime objects that specify \n",
    "the start and end dates for the analysis, the reference (\"zero\") date\n",
    "and the left limit for the x-axis in the final plot.\n",
    "### Model\n",
    "The model is a parameterised summer2 SEIR model \n",
    "with frequency-dependent transmission and \n",
    "partial observation of incidence (termed notifications).\n",
    "### Results\n",
    "The SEIR model provides a poor-to-moderate fit to the target data \n",
    "for the Omicron waves in each of the three countries.\n",
    "Please adjust parameters and dates to achieve a better fit for your country."
   ]
  },
  {
   "cell_type": "code",
   "execution_count": null,
   "id": "d25c9c93-db55-4a04-b1dd-522727309b4e",
   "metadata": {},
   "outputs": [],
   "source": [
    "iso = 'MYS'"
   ]
  },
  {
   "cell_type": "code",
   "execution_count": null,
   "id": "8ebb562f-4915-4755-a698-3592eefdd456",
   "metadata": {},
   "outputs": [],
   "source": [
    "cases_data = pd.read_csv('https://github.com/monash-emu/wpro_working/raw/main/data/new_cases.csv', index_col=0)[iso]\n",
    "cases_data.index = pd.to_datetime(cases_data.index)\n",
    "approx_pops = {\n",
    "    'MYS': 33e6,\n",
    "    'PHL': 114e6,\n",
    "    'VNM': 97e6,\n",
    "}"
   ]
  },
  {
   "cell_type": "code",
   "execution_count": null,
   "id": "4a8d1689-adf2-4bb5-8cb0-a04dbb4b0e8f",
   "metadata": {},
   "outputs": [],
   "source": [
    "analysis_start_date = datetime(2021, 8, 1) \n",
    "analysis_end_date = datetime(2022, 6, 1)\n",
    "epi_model = CompartmentalModel(\n",
    "    [analysis_start_date, analysis_end_date],\n",
    "    ['susceptible', 'exposed', 'infectious', 'recovered'],\n",
    "    ['infectious'],\n",
    "    ref_date=datetime(2019, 12, 31),\n",
    ")\n",
    "epi_model.add_infection_frequency_flow('infection', Parameter('contact_rate'), 'susceptible', 'exposed')\n",
    "epi_model.add_transition_flow('progression', 1.0 / Parameter('incubation_period'), 'exposed', 'infectious')\n",
    "epi_model.add_transition_flow('recovery', 1.0 / Parameter('infectious_period'), 'infectious', 'recovered')\n",
    "epi_model.set_initial_population({'susceptible': approx_pops[iso], 'infectious': 1.0})\n",
    "incidence = epi_model.request_output_for_flow('incidence', 'progression', save_results=False)\n",
    "epi_model.request_function_output('notifications', incidence * Parameter('detection_prop'));"
   ]
  },
  {
   "cell_type": "code",
   "execution_count": null,
   "id": "de7eec55-c205-4960-b2df-b6bef6bf11ea",
   "metadata": {},
   "outputs": [],
   "source": [
    "parameters = {\n",
    "    'contact_rate': 0.4,\n",
    "    'incubation_period': 5.0,\n",
    "    'infectious_period': 5.0,\n",
    "    'detection_prop': 0.07,\n",
    "}\n",
    "epi_model.run(parameters)"
   ]
  },
  {
   "cell_type": "code",
   "execution_count": null,
   "id": "3366ae44-aa83-4779-9bba-0e2c106840c4",
   "metadata": {},
   "outputs": [],
   "source": [
    "plot_start_date = datetime(2021, 10, 1)\n",
    "comparison_df = pd.concat([epi_model.get_derived_outputs_df(), cases_data])\n",
    "comparison_df.columns = ['modelled', 'reported']\n",
    "comparison_plot = comparison_df.plot()\n",
    "comparison_plot.update_xaxes(range=(plot_start_date, analysis_end_date))"
   ]
  }
 ],
 "metadata": {
  "kernelspec": {
   "display_name": "Python 3 (ipykernel)",
   "language": "python",
   "name": "python3"
  },
  "language_info": {
   "codemirror_mode": {
    "name": "ipython",
    "version": 3
   },
   "file_extension": ".py",
   "mimetype": "text/x-python",
   "name": "python",
   "nbconvert_exporter": "python",
   "pygments_lexer": "ipython3",
   "version": "3.10.10"
  }
 },
 "nbformat": 4,
 "nbformat_minor": 5
}
