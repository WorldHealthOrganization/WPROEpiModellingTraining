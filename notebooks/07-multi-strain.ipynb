{
 "cells": [
  {
   "cell_type": "code",
   "execution_count": null,
   "id": "0",
   "metadata": {},
   "outputs": [],
   "source": [
    "# If running from Colab, please uncomment and run the following cell to get summer installed.\n",
    "#!pip install summerepi2==1.3.5"
   ]
  },
  {
   "cell_type": "code",
   "execution_count": null,
   "id": "1",
   "metadata": {},
   "outputs": [],
   "source": [
    "import pandas as pd\n",
    "from jax import numpy as jnp\n",
    "from datetime import datetime\n",
    "from summer2 import CompartmentalModel, StrainStratification\n",
    "from summer2.parameters import Parameter, Function, Time\n",
    "from plotly import graph_objects as go\n",
    "pd.options.plotting.backend = 'plotly'"
   ]
  },
  {
   "cell_type": "markdown",
   "id": "2",
   "metadata": {},
   "source": [
    "## Multiple competing strains\n",
    "This notebook applies a two-strain stratification to the base model.\n",
    "The two strains compete for the same susceptible population.\n",
    "The assumption that recovered persons are immune to futher infection\n",
    "has not been adjusted.\n",
    "\n",
    "### Seeding\n",
    "So that the two strains are seeded in the same way,\n",
    "we first ensure that all of the starting population is susceptible.\n",
    "We then use a triangular function to inject infectious\n",
    "persons into the model in order to seed the epidemic with each strain.\n",
    "The time that each strain is introduced is then parameterised for each.\n",
    "The duration and rate of the seed is relatively unimportant\n",
    "because most of the dynamics are driven by transmission \n",
    "as soon as the prevalence of the new strain reaches significant levels.\n",
    "\n",
    "### Competition\n",
    "Because the assumption of complete immunity after infection has not beeen relaxed,\n",
    "this implies that after recovery,\n",
    "people are fully immune to infection with either strain.\n",
    "Given that we introduce the second (`mutant`) strain some time\n",
    "after the introduction of the first (`wild`) strain\n",
    "when the epidemic has begun to decline,\n",
    "there are relatively fewer susceptibles for the second strain to infect.\n",
    "We therefore increase its infectiousness to very high levels to get\n",
    "an observable epidemic.\n",
    "This is unlikely to be the best way to model most competing strain dynamics, \n",
    "but illustrates the code structure for implementing multi-strain models.\n",
    "In practice, and for simulating COVID-19 dynamics,\n",
    "we would likely wish to allow for subsequent strains to escape \n",
    "past immunity.\n",
    "To achieve this, we would have to implement reinfection processes in the model."
   ]
  },
  {
   "cell_type": "code",
   "execution_count": null,
   "id": "3",
   "metadata": {},
   "outputs": [],
   "source": [
    "analysis_start_date = datetime(2021, 1, 1) \n",
    "analysis_end_date = datetime(2023, 1, 1)\n",
    "\n",
    "base_comps = ['susceptible', 'exposed', 'infectious', 'recovered']\n",
    "\n",
    "epi_model = CompartmentalModel(\n",
    "    [analysis_start_date, analysis_end_date],\n",
    "    base_comps,\n",
    "    ['infectious'],\n",
    "    ref_date=datetime(2019, 12, 31),\n",
    ")\n",
    "epi_model.add_infection_frequency_flow('infection', Parameter('contact_rate'), 'susceptible', 'exposed')\n",
    "epi_model.add_transition_flow('progression', 1.0 / Parameter('incubation_period'), 'exposed', 'infectious')\n",
    "epi_model.add_transition_flow('recovery', 1.0 / Parameter('infectious_period'), 'infectious', 'recovered')\n",
    "epi_model.set_initial_population({'susceptible': 33e6})\n",
    "incidence = epi_model.request_output_for_flow('incidence', 'progression', save_results=False)\n",
    "epi_model.request_function_output('notifications', incidence * Parameter('detection_prop'));"
   ]
  },
  {
   "cell_type": "code",
   "execution_count": null,
   "id": "4",
   "metadata": {},
   "outputs": [],
   "source": [
    "def triangle_wave_func(\n",
    "    time: float, \n",
    "    start: float, \n",
    "    duration: float, \n",
    "    peak: float,\n",
    ") -> float:\n",
    "    \"\"\"Generate a peaked triangular wave function\n",
    "    that starts from and returns to zero.\n",
    "\n",
    "    Args:\n",
    "        time: Model time\n",
    "        start: Time at which wave starts\n",
    "        duration: Duration of wave\n",
    "        peak: Peak flow rate for wave\n",
    "\n",
    "    Returns:\n",
    "        The wave function\n",
    "    \"\"\"\n",
    "    gradient = peak / (duration * 0.5)\n",
    "    peak_time = start + duration * 0.5\n",
    "    time_from_peak = jnp.abs(peak_time - time)\n",
    "    return jnp.where(time_from_peak < duration * 0.5, peak - time_from_peak * gradient, 0.0)"
   ]
  },
  {
   "cell_type": "code",
   "execution_count": null,
   "id": "5",
   "metadata": {},
   "outputs": [],
   "source": [
    "# Strain stratification\n",
    "comps_to_stratify = [c for c in base_comps if c != 'susceptible']\n",
    "strain_strata = ['wild', 'mutant']\n",
    "strain_strat = StrainStratification('strain', strain_strata, comps_to_stratify)\n",
    "epi_model.stratify_with(strain_strat)\n",
    "strain_strat.add_infectiousness_adjustments('infectious', {'wild': None, 'mutant': Parameter('mutant_infectiousness')})\n",
    "for strain in strain_strata:\n",
    "    seed_args = [Time, Parameter(f'{strain}_seed_time'), Parameter('seed_duration'), Parameter('seed_peak')]\n",
    "    voc_seed_func = Function(triangle_wave_func, seed_args)\n",
    "    epi_model.add_importation_flow(f'seed_{strain}', voc_seed_func, 'infectious', split_imports=True, dest_strata={'strain': strain})\n",
    "    strain_inc = epi_model.request_output_for_flow(f'incX{strain}', 'progression', dest_strata={'strain': strain}, save_results=False)\n",
    "    epi_model.request_function_output(f'notifX{strain}', strain_inc * Parameter('detection_prop'))\n",
    "\n",
    "epoch = epi_model.get_epoch()"
   ]
  },
  {
   "cell_type": "code",
   "execution_count": null,
   "id": "6",
   "metadata": {},
   "outputs": [],
   "source": [
    "parameters = {\n",
    "    'contact_rate': 0.4,\n",
    "    'incubation_period': 5.0,\n",
    "    'infectious_period': 5.0,\n",
    "    'detection_prop': 0.15,\n",
    "    'wild_seed_time': epoch.datetime_to_number(datetime(2021, 1, 1)),\n",
    "    'mutant_seed_time': epoch.datetime_to_number(datetime(2021, 7, 1)),\n",
    "    'seed_duration': 10.0,\n",
    "    'seed_peak': 10.0,\n",
    "    'mutant_infectiousness': 4.0,\n",
    "}\n",
    "epi_model.run(parameters)\n",
    "epi_model.get_derived_outputs_df()[[f'notifX{strat}' for strat in strain_strata]].plot.area()"
   ]
  }
 ],
 "metadata": {
  "kernelspec": {
   "display_name": "Python 3 (ipykernel)",
   "language": "python",
   "name": "python3"
  },
  "language_info": {
   "codemirror_mode": {
    "name": "ipython",
    "version": 3
   },
   "file_extension": ".py",
   "mimetype": "text/x-python",
   "name": "python",
   "nbconvert_exporter": "python",
   "pygments_lexer": "ipython3",
   "version": "3.10.13"
  }
 },
 "nbformat": 4,
 "nbformat_minor": 5
}
